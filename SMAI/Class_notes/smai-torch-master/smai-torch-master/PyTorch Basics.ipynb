{
 "cells": [
  {
   "cell_type": "markdown",
   "metadata": {
    "slideshow": {
     "slide_type": "notes"
    }
   },
   "source": [
    "\n",
    "# CNNs through PyTorch\n",
    "\n",
    "> Statistical Methods in AI, Monsoon '18\n",
    "\n"
   ]
  },
  {
   "cell_type": "markdown",
   "metadata": {
    "slideshow": {
     "slide_type": "slide"
    }
   },
   "source": [
    "\n",
    "## Contents\n",
    "\n",
    "\n",
    "### PyTorch\n",
    "\n",
    "1. PyTorch Basics\n",
    "2. Dataset\n",
    "3. DataLoader\n",
    "4. Model\n",
    "5. Objectives, Optimizers and the Training Loop"
   ]
  },
  {
   "cell_type": "markdown",
   "metadata": {
    "slideshow": {
     "slide_type": "slide"
    }
   },
   "source": [
    "### CNNs: Theory\n",
    "\n",
    "1. Convolutional Filters\n",
    "2. Pooling Layers\n",
    "3. Activation Functions\n"
   ]
  },
  {
   "cell_type": "markdown",
   "metadata": {
    "slideshow": {
     "slide_type": "slide"
    }
   },
   "source": [
    " ![XKCD: Machine Learning](static/xkcd-machine_learning.png)"
   ]
  },
  {
   "cell_type": "markdown",
   "metadata": {
    "slideshow": {
     "slide_type": "subslide"
    }
   },
   "source": [
    "\n",
    "###  `np.ndarray`?\n",
    "###  `tf.Tensor`?\n",
    "## `torch.Tensor`!\n",
    "\n",
    "\n"
   ]
  },
  {
   "cell_type": "code",
   "execution_count": 1,
   "metadata": {
    "slideshow": {
     "slide_type": "subslide"
    }
   },
   "outputs": [],
   "source": [
    "import torch\n",
    "from torch import nn, optim\n",
    "from matplotlib import pyplot\n",
    "SMALL_SIZE = 18\n",
    "MEDIUM_SIZE = 20\n",
    "BIGGER_SIZE = 24\n",
    "\n",
    "pyplot.rc('font', size=SMALL_SIZE)          # controls default text sizes\n",
    "pyplot.rc('axes', titlesize=SMALL_SIZE)     # fontsize of the axes title\n",
    "pyplot.rc('axes', labelsize=MEDIUM_SIZE)    # fontsize of the x and y labels\n",
    "pyplot.rc('xtick', labelsize=SMALL_SIZE)    # fontsize of the tick labels\n",
    "pyplot.rc('ytick', labelsize=SMALL_SIZE)    # fontsize of the tick labels\n",
    "pyplot.rc('legend', fontsize=SMALL_SIZE)    # legend fontsize\n",
    "pyplot.rc('figure', titlesize=BIGGER_SIZE)  # fontsize of the figure title"
   ]
  },
  {
   "cell_type": "code",
   "execution_count": 2,
   "metadata": {
    "slideshow": {
     "slide_type": "fragment"
    }
   },
   "outputs": [
    {
     "data": {
      "text/plain": [
       "tensor([1., 2., 3.])"
      ]
     },
     "execution_count": 2,
     "metadata": {},
     "output_type": "execute_result"
    }
   ],
   "source": [
    "A = torch.Tensor([1, 2, 3])\n",
    "A"
   ]
  },
  {
   "cell_type": "code",
   "execution_count": 3,
   "metadata": {
    "slideshow": {
     "slide_type": "fragment"
    }
   },
   "outputs": [
    {
     "data": {
      "text/plain": [
       "tensor([4., 5., 6.])"
      ]
     },
     "execution_count": 3,
     "metadata": {},
     "output_type": "execute_result"
    }
   ],
   "source": [
    "B = A + 3 # Supports broadcast operations, like numpy.\n",
    "B"
   ]
  },
  {
   "cell_type": "markdown",
   "metadata": {
    "slideshow": {
     "slide_type": "slide"
    }
   },
   "source": [
    "## Why `torch.Tensor`?\n",
    "\n",
    "* `autograd` enabled. No longer necessary to compute gradient update rules manually.\n",
    "* CUDA backend - operations are many orders faster than numpy, which is not as fast."
   ]
  },
  {
   "cell_type": "markdown",
   "metadata": {
    "slideshow": {
     "slide_type": "slide"
    }
   },
   "source": [
    "## 8.2\n",
    "\n",
    "Create a 2D synthetic data (Normal distribution) of 1000 samples  (i.e.,\n",
    "$(x^1,x^2)$ from two classes with 50% in each of these classes.\n",
    "\n",
    "You may chose your favorite mean and covariance. But make sure that a\n",
    "linear classifier will have error (say the best possible error is in the\n",
    "range 50-250 samples. (your data and parameter will differ from your\n",
    "friends data!!).\n",
    "\n",
    "..."
   ]
  },
  {
   "cell_type": "markdown",
   "metadata": {
    "slideshow": {
     "slide_type": "slide"
    }
   },
   "source": [
    "## `torch.utils.data.Dataset`\n",
    "\n",
    "We'll implement the 2D data in question as a `Dataset`. \n",
    "\n",
    "A dataset is something which requires a finite length, and indexed access gets a `(sample, target)` pair."
   ]
  },
  {
   "cell_type": "code",
   "execution_count": 4,
   "metadata": {
    "slideshow": {
     "slide_type": "slide"
    }
   },
   "outputs": [],
   "source": [
    "from torch.distributions.multivariate_normal import MultivariateNormal\n",
    "import torch.utils.data\n",
    "\n",
    "class FakeDataset(torch.utils.data.Dataset):\n",
    "    def __init__(self, mean, covariance, class_id, samples):\n",
    "        self.distribution = MultivariateNormal(mean, covariance)\n",
    "        self.class_id = class_id\n",
    "        self.samples = samples\n",
    "        self.mean = mean\n",
    "        self.covariance = covariance\n",
    "        \n",
    "        self.data = self.generate_samples()\n",
    "    \n",
    "    def generate_samples(self):\n",
    "        data = []\n",
    "        for i in range(self.samples):\n",
    "            sample = self.distribution.sample()\n",
    "            data.append(sample)\n",
    "        return data\n",
    "    \n",
    "    def __len__(self):\n",
    "        return self.samples\n",
    "    \n",
    "     \n",
    "    def __getitem__(self, idx):\n",
    "        return (self.data[idx], self.class_id)"
   ]
  },
  {
   "cell_type": "code",
   "execution_count": 5,
   "metadata": {
    "slideshow": {
     "slide_type": "slide"
    }
   },
   "outputs": [],
   "source": [
    "samples = 500\n",
    "\n",
    "mean, covariance = torch.tensor([1, 1]).float(), torch.eye(2, 2).float()\n",
    "first = FakeDataset(mean, covariance, class_id=0, samples=samples)\n",
    "\n",
    "mean, covariance = torch.tensor([3, 3]).float(), torch.eye(2, 2).float()\n",
    "second = FakeDataset(mean, covariance, class_id=1, samples=samples)"
   ]
  },
  {
   "cell_type": "markdown",
   "metadata": {
    "slideshow": {
     "slide_type": "fragment"
    }
   },
   "source": [
    "\\begin{align*}\n",
    "\\mu_0 &= \\begin{bmatrix} 1 \\\\ 1\\end{bmatrix} & \\Sigma_0 &= \\begin{bmatrix}1 & 0 \\\\0 &1 \\end{bmatrix} & \\text{# class 0} \\\\\n",
    "\\mu_1 &= \\begin{bmatrix} 3 \\\\ 3\\end{bmatrix} & \\Sigma_1 &= \\begin{bmatrix}1 & 0 \\\\0 &1 \\end{bmatrix} & \\text{# class 1}\n",
    "\\end{align*}\n",
    "\n",
    "### Question\n",
    "\n",
    "What's the Bayes Optimal Decision Boundary for the above?"
   ]
  },
  {
   "cell_type": "markdown",
   "metadata": {
    "slideshow": {
     "slide_type": "slide"
    }
   },
   "source": [
    "## `torch.utils.data.DataLoader`\n",
    "\n",
    "A `DataLoader` is an abstraction which enables fast and parallel loading of data (images, videos etc) and provides options for batching, shuffling and splitting the `Dataset`. \n",
    "\n",
    "`Transforms` additionally help in preprocessing data (feature extraction) which are also built into the dataloader. "
   ]
  },
  {
   "cell_type": "code",
   "execution_count": 6,
   "metadata": {
    "slideshow": {
     "slide_type": "fragment"
    }
   },
   "outputs": [],
   "source": [
    "dataset = torch.utils.data.ConcatDataset([first, second])\n",
    "loader = torch.utils.data.DataLoader(dataset, shuffle=True)"
   ]
  },
  {
   "cell_type": "code",
   "execution_count": 7,
   "metadata": {
    "slideshow": {
     "slide_type": "slide"
    }
   },
   "outputs": [],
   "source": [
    "def visualize_datapoints(first, second, boundaries=[]):\n",
    "    def datapoints(dset):\n",
    "        loader = torch.utils.data.DataLoader(dset, batch_size=len(dset))\n",
    "        pts, labels = next(iter(loader))\n",
    "        xys = pts.numpy()\n",
    "        xs, ys = xys[:, 0], xys[:, 1]\n",
    "        return (xs, ys)\n",
    "        \n",
    "    xs, ys = datapoints(first)\n",
    "    pyplot.figure(figsize=(20, 10))\n",
    "    pyplot.scatter(xs, ys, label='class 0')\n",
    "    \n",
    "    xs, ys = datapoints(second)\n",
    "    pyplot.scatter(xs, ys, label='class 1')\n",
    "    \n",
    "    def draw(boundary):\n",
    "        w, title  = boundary\n",
    "        eps = 1e-9\n",
    "        f = lambda x: -(w[0] + w[1]*x)/(w[2] + eps)\n",
    "        xs = torch.linspace(start=-1, end=+5, steps=100)\n",
    "        ys = f(xs)\n",
    "        pyplot.plot(xs.numpy(), ys.numpy(), label=title)\n",
    "    for boundary in boundaries:\n",
    "        draw(boundary)\n",
    "    \n",
    "    pyplot.legend()\n",
    "    return pyplot"
   ]
  },
  {
   "cell_type": "code",
   "execution_count": 9,
   "metadata": {
    "slideshow": {
     "slide_type": "slide"
    }
   },
   "outputs": [],
   "source": [
    "_ = visualize_datapoints(first, second)"
   ]
  },
  {
   "cell_type": "markdown",
   "metadata": {
    "slideshow": {
     "slide_type": "slide"
    }
   },
   "source": [
    "## 8.3 \n",
    "\n",
    "Learn a logistic regression classifier with gradient descent. Find the\n",
    "error on this data. (write your own code that implements gradient\n",
    "descent. also submit the code). Repeat this with bias and without bias.\n",
    "Do you find any difference?\n",
    "\n",
    "Plot the decision boundaries (Bayesian optimal, LR with bias, LR without\n",
    "bias) on a 2D plane and Submit. (show samples from different classes\n",
    "with different colour.)\n",
    "\n",
    "..."
   ]
  },
  {
   "cell_type": "code",
   "execution_count": 10,
   "metadata": {
    "slideshow": {
     "slide_type": "slide"
    }
   },
   "outputs": [],
   "source": [
    "class MultinomialLogisticRegressor(nn.Module):\n",
    "    def __init__(self, input_feature_dim,  output_classes, bias=True):\n",
    "        super().__init__()\n",
    "        self.input_feature_dim = input_feature_dim\n",
    "        self.output_classes = output_classes        \n",
    "        self.W = nn.Linear(input_feature_dim, output_classes, bias=bias)\n",
    "        \n",
    "    def forward(self, input_feature):\n",
    "        o = input_feature\n",
    "        o = self.W(o)\n",
    "        return o"
   ]
  },
  {
   "cell_type": "code",
   "execution_count": 11,
   "metadata": {
    "slideshow": {
     "slide_type": "slide"
    }
   },
   "outputs": [],
   "source": [
    "def run_epoch(loader, model, criterion, opt, device):\n",
    "    total_loss, total_count = 0, 0\n",
    "    \n",
    "    model = model.to(device)\n",
    "    for sample, target in loader:\n",
    "        \n",
    "        sample = sample.to(device)\n",
    "        target = target.to(device)\n",
    "        \n",
    "        opt.zero_grad()   \n",
    "        \n",
    "        prediction = model(sample)\n",
    "        loss = criterion(prediction, target)\n",
    "        loss.backward()\n",
    "        \n",
    "        opt.step()\n",
    "        \n",
    "        total_loss += loss.item()\n",
    "        total_count += 1\n",
    "        \n",
    "    return total_loss/total_count"
   ]
  },
  {
   "cell_type": "markdown",
   "metadata": {
    "slideshow": {
     "slide_type": "slide"
    }
   },
   "source": [
    "## Gradient Updates: Explained\n",
    "\n",
    "Before any computation, we clear out the existing gradients through `opt.zero_grad()`.\n",
    "\n",
    "```python\n",
    "for sample, target in loader:\n",
    "    opt.zero_grad()   \n",
    "```\n",
    "\n",
    "The forward pass happens below.\n",
    "\n",
    "```python\n",
    "    prediction = model(sample)\n",
    "```\n"
   ]
  },
  {
   "cell_type": "markdown",
   "metadata": {
    "slideshow": {
     "slide_type": "slide"
    }
   },
   "source": [
    "Gradients for each parameter `x` are stored as an attribute, `x.grad`.\n",
    "\n",
    "```python\n",
    "    loss = criterion(prediction, target)\n",
    "    loss.backward()\n",
    "```\n",
    "\n",
    "Now, all the optimizer has to do is visit each parameter and `x = x - eta * x.grad`. Which is achieved through the following function.\n",
    "\n",
    "\n",
    "```python\n",
    "    opt.step()\n",
    "```"
   ]
  },
  {
   "cell_type": "markdown",
   "metadata": {
    "slideshow": {
     "slide_type": "slide"
    }
   },
   "source": [
    "## Resources\n",
    "\n",
    "Basic implementations which helps see how autograd is implemented can be found in the below notebook.\n",
    "\n",
    "[CS 6501-004: Vision & Language Vicente Ordonez, Deep Learning Lab](http://www.cs.virginia.edu/~vicente/vislang/notebooks/deep_learning_lab.html)"
   ]
  },
  {
   "cell_type": "code",
   "execution_count": 12,
   "metadata": {
    "slideshow": {
     "slide_type": "slide"
    }
   },
   "outputs": [],
   "source": [
    "model = MultinomialLogisticRegressor(input_feature_dim=2, output_classes=2)\n",
    "criterion = torch.nn.CrossEntropyLoss()\n",
    "opt = torch.optim.SGD(model.parameters(),  lr=1e-2, momentum=0.8)\n",
    "max_epochs = 100\n",
    "\n",
    "\n",
    "def train(max_epochs, loader, model, criterion, opt, device):\n",
    "    losses = []\n",
    "    for epoch in range(max_epochs):\n",
    "        loss = run_epoch(loader, model, criterion, opt, device)\n",
    "        losses.append(loss)\n",
    "    return losses\n",
    "\n",
    "device = torch.device(\"cuda\")\n",
    "loader = torch.utils.data.DataLoader(dataset, shuffle=True, batch_size=25)\n",
    "losses = train(max_epochs, loader, model, criterion, opt, device)"
   ]
  },
  {
   "cell_type": "code",
   "execution_count": 13,
   "metadata": {
    "slideshow": {
     "slide_type": "slide"
    }
   },
   "outputs": [],
   "source": [
    "def loss_plot(losses):\n",
    "    max_epochs = len(losses)\n",
    "    times = list(range(1, max_epochs+1))\n",
    "    pyplot.figure(figsize=(30, 7))\n",
    "    pyplot.xlabel(\"epochs\")\n",
    "    pyplot.ylabel(\"cross-entropy loss\")\n",
    "    return pyplot.plot(times, losses)"
   ]
  },
  {
   "cell_type": "code",
   "execution_count": 14,
   "metadata": {
    "scrolled": true,
    "slideshow": {
     "slide_type": "slide"
    }
   },
   "outputs": [],
   "source": [
    "_ = loss_plot(losses)"
   ]
  },
  {
   "cell_type": "markdown",
   "metadata": {
    "slideshow": {
     "slide_type": "slide"
    }
   },
   "source": [
    "We know that the probability for the two classes are given by the below functions.\n",
    "\n",
    "\\begin{align*}\n",
    "f(0, x) &= {\\bf \\theta}_0^T{\\bf x} & g(0, {\\bf x}) &= (1 + \\exp( f(0, {\\bf x}) )^{-1} \\\\\n",
    "f(1, x) &= {\\bf \\theta}_1^T{\\bf x} & g(1, {\\bf x}) &= (1 + \\exp( f(1, {\\bf x}) )^{-1} \\\\\n",
    "\\end{align*}\n",
    "\n",
    "Decision boundary is given by $g(0, x) = g(1, x)$, which leads to $f(0, x) = f(1, x)$.\n",
    "\n",
    "i.e, \n",
    "\\begin{align*}\n",
    "f(0, x) - f(1, x) &= 0 \\implies & ({\\bf \\theta}_0 - {\\bf \\theta}_1)^T{\\bf x} &= 0 \n",
    "\\end{align*}"
   ]
  },
  {
   "cell_type": "code",
   "execution_count": 14,
   "metadata": {
    "slideshow": {
     "slide_type": "slide"
    }
   },
   "outputs": [],
   "source": [
    "boundaries = model.W.parameters()\n",
    "W, b = list(boundaries)\n",
    "_W = W.new(2, 3)\n",
    "_W[:,1:] = W.data\n",
    "_W[:, 0] = b.data\n",
    "w = _W[0, :] - _W[1, :]\n",
    "w = w.cpu().numpy()"
   ]
  },
  {
   "cell_type": "code",
   "execution_count": 15,
   "metadata": {
    "scrolled": false,
    "slideshow": {
     "slide_type": "slide"
    }
   },
   "outputs": [
    {
     "data": {
      "image/png": "[encoded data removed]",
      "text/plain": [
       "<Figure size 1440x720 with 1 Axes>"
      ]
     },
     "metadata": {
      "needs_background": "light"
     },
     "output_type": "display_data"
    }
   ],
   "source": [
    "_ = visualize_datapoints(first, second, boundaries=[(w, 'lr with bias')])"
   ]
  },
  {
   "cell_type": "markdown",
   "metadata": {
    "slideshow": {
     "slide_type": "slide"
    }
   },
   "source": [
    "## Question\n",
    "\n",
    "1. How would you realize `LinearRegression` with MSELoss with the PyTorch framework, similar to `MultinomialLogisticRegression` above?\n",
    "2. What modifications are required above to convert the above into logistic regression without bias, as in the question. Would the perfomance improve or degrade? Justify."
   ]
  },
  {
   "cell_type": "markdown",
   "metadata": {
    "slideshow": {
     "slide_type": "slide"
    }
   },
   "source": [
    "## MNIST Dataset"
   ]
  },
  {
   "cell_type": "code",
   "execution_count": 16,
   "metadata": {
    "slideshow": {
     "slide_type": "slide"
    }
   },
   "outputs": [],
   "source": [
    "import torchvision\n",
    "import torchvision.datasets as datasets\n",
    "import torchvision.transforms as transforms\n",
    "\n",
    "preprocess = transforms.Compose([\n",
    "                           transforms.ToTensor(),\n",
    "                           transforms.Normalize((0.1307,), (0.3081,))\n",
    "                       ])\n",
    "mnist_trainset = datasets.MNIST(root='./data/mnist',  \n",
    "                                train=True, \n",
    "                                download=True,   \n",
    "                                transform=preprocess)"
   ]
  },
  {
   "cell_type": "code",
   "execution_count": 17,
   "metadata": {
    "slideshow": {
     "slide_type": "fragment"
    }
   },
   "outputs": [],
   "source": [
    "mnist_train_loader = torch.utils.data.DataLoader(mnist_trainset, batch_size=1)"
   ]
  },
  {
   "cell_type": "code",
   "execution_count": 18,
   "metadata": {
    "slideshow": {
     "slide_type": "slide"
    }
   },
   "outputs": [
    {
     "data": {
      "image/png": "[encoded data removed]",
      "text/plain": [
       "<Figure size 432x288 with 1 Axes>"
      ]
     },
     "metadata": {
      "needs_background": "light"
     },
     "output_type": "display_data"
    }
   ],
   "source": [
    "sample, target = next(iter(mnist_train_loader))\n",
    "\n",
    "from matplotlib import pyplot\n",
    "def visualize(sample, target):\n",
    "    formatted = (sample.view(28, 28)\n",
    "                 .contiguous()\n",
    "                 .numpy())\n",
    "    pyplot.imshow(formatted)\n",
    "    \n",
    "visualize(sample, target)"
   ]
  },
  {
   "cell_type": "markdown",
   "metadata": {
    "slideshow": {
     "slide_type": "slide"
    }
   },
   "source": [
    "## MultiLayerPerceptron\n",
    "\n",
    "\n",
    "#### The 3 Layer Case\n",
    "\n",
    "![3 Layer Perceptron](static/mlp.png)"
   ]
  },
  {
   "cell_type": "code",
   "execution_count": 19,
   "metadata": {
    "slideshow": {
     "slide_type": "slide"
    }
   },
   "outputs": [],
   "source": [
    "class SimpleMLP(nn.Module):\n",
    "    def __init__(self, input_size, hidden_size, output_classes):\n",
    "        super().__init__()\n",
    "        \n",
    "        self.input_size = input_size\n",
    "        self.hidden_size = hidden_size\n",
    "        self.output_classes = output_classes\n",
    "        \n",
    "        self.W_hx = nn.Linear(self.input_size, self.hidden_size)\n",
    "        self.W_yh = nn.Linear(self.hidden_size, self.output_classes)\n",
    "    \n",
    "    def forward(self, sample):\n",
    "        o = sample\n",
    "        o = self.W_hx(o)\n",
    "        o = torch.sigmoid(o)\n",
    "        o = self.W_yh(o)\n",
    "        return o\n",
    "        "
   ]
  },
  {
   "cell_type": "code",
   "execution_count": 20,
   "metadata": {
    "slideshow": {
     "slide_type": "subslide"
    }
   },
   "outputs": [],
   "source": [
    "input_size = 28*28\n",
    "hidden_size = 1000\n",
    "output_classes = 10\n",
    "\n",
    "vnn = SimpleMLP(input_size, \n",
    "               hidden_size, \n",
    "               output_classes)\n",
    "vopt = optim.Adam(vnn.parameters(), lr=1e-2)\n",
    "vcriterion = nn.CrossEntropyLoss()"
   ]
  },
  {
   "cell_type": "code",
   "execution_count": 31,
   "metadata": {},
   "outputs": [],
   "source": [
    "preprocess = transforms.Compose([\n",
    "                           transforms.ToTensor(),\n",
    "                           transforms.Normalize((0.1307,), (0.3081,)),\n",
    "                           transforms.Lambda(lambda x: x.view(-1).contiguous())\n",
    "                       ])\n",
    "\n",
    "\n",
    "mnist_trainset = datasets.MNIST(root='./data/mnist', \n",
    "                                train=True, \n",
    "                                download=True, \n",
    "                                transform=preprocess)"
   ]
  },
  {
   "cell_type": "code",
   "execution_count": 22,
   "metadata": {
    "slideshow": {
     "slide_type": "slide"
    }
   },
   "outputs": [],
   "source": [
    "mnist_train_loader = torch.utils.data.DataLoader(mnist_trainset, batch_size=64)\n",
    "device = torch.device(\"cuda\")\n",
    "losses = train(max_epochs, mnist_train_loader, vnn, vcriterion, vopt, device)"
   ]
  },
  {
   "cell_type": "code",
   "execution_count": 23,
   "metadata": {},
   "outputs": [
    {
     "data": {
      "image/png": "[encoded data removed]",
      "text/plain": [
       "<Figure size 2160x504 with 1 Axes>"
      ]
     },
     "metadata": {
      "needs_background": "light"
     },
     "output_type": "display_data"
    }
   ],
   "source": [
    "_ = loss_plot(losses)"
   ]
  },
  {
   "cell_type": "markdown",
   "metadata": {
    "slideshow": {
     "slide_type": "slide"
    }
   },
   "source": [
    "## MultiLayerPerceptron"
   ]
  },
  {
   "cell_type": "markdown",
   "metadata": {
    "slideshow": {
     "slide_type": "slide"
    }
   },
   "source": [
    "# Convolutional Neural Networks"
   ]
  },
  {
   "cell_type": "markdown",
   "metadata": {
    "slideshow": {
     "slide_type": "notes"
    }
   },
   "source": [
    "#### CNNs Motivation\n",
    "1. Regular neural networks do not scale to images\n",
    "2. Full connectivity leads to large number of parameters that might lead to overfitting\n",
    "3. CNNs contain neurons in 3 dimensions which better leverages input of images\n",
    "4. Outputs 3D volume of activations and finally reduced to vector of class scores for a classification problem"
   ]
  },
  {
   "cell_type": "markdown",
   "metadata": {
    "slideshow": {
     "slide_type": "slide"
    }
   },
   "source": [
    "### Fully Connected layer\n",
    "\n",
    "![CNN:FCN](static/0.png)"
   ]
  },
  {
   "cell_type": "markdown",
   "metadata": {
    "slideshow": {
     "slide_type": "notes"
    }
   },
   "source": [
    "FCN \n",
    "\n",
    "* operates over vectors\n",
    "* if hidden layer has 10 neurons then each neuro will be the result of taking\n",
    "    dot product with 32*32*3 weight parameters.So if 10 such neurons number of parameters will \n",
    "    10*3072\n",
    "    "
   ]
  },
  {
   "cell_type": "markdown",
   "metadata": {
    "slideshow": {
     "slide_type": "slide"
    }
   },
   "source": [
    "### CNN operates over volume.\n",
    "\n",
    "![CNN:Image](static/1.png)"
   ]
  },
  {
   "cell_type": "markdown",
   "metadata": {
    "slideshow": {
     "slide_type": "notes"
    }
   },
   "source": [
    "* We preserve the spatial structure."
   ]
  },
  {
   "cell_type": "markdown",
   "metadata": {
    "slideshow": {
     "slide_type": "slide"
    }
   },
   "source": [
    "![CNN:2](static/2.png)"
   ]
  },
  {
   "cell_type": "markdown",
   "metadata": {
    "slideshow": {
     "slide_type": "slide"
    }
   },
   "source": [
    "![CNN:3](static/3.png)"
   ]
  },
  {
   "cell_type": "markdown",
   "metadata": {
    "slideshow": {
     "slide_type": "slide"
    }
   },
   "source": [
    "## Convolution operation \n",
    "\n",
    "![CNN:conv](static/CNN.gif)"
   ]
  },
  {
   "cell_type": "markdown",
   "metadata": {
    "slideshow": {
     "slide_type": "slide"
    }
   },
   "source": [
    "![CNN:4](static/4.png)"
   ]
  },
  {
   "cell_type": "markdown",
   "metadata": {
    "slideshow": {
     "slide_type": "notes"
    }
   },
   "source": [
    "* Conv net is a sereis of such convolutional layers stacked one on top of other.\n",
    "* Impractical to have fully connected layers. So each neuron connected to local region of input.\n",
    "* Helps capture spatial associations between features\n",
    "* Filters always extend full depth of input volume (i.e. input XxYxZ, filter has to be MxNxZ)\n",
    "* Each filter gives an activation map obtained by the \"convolving\" the filter on input. So more filters means greater depth of activation map. "
   ]
  },
  {
   "cell_type": "markdown",
   "metadata": {
    "slideshow": {
     "slide_type": "slide"
    }
   },
   "source": [
    "## Dimension of activation maps  \n",
    "\n",
    "### Dimension of output given by (N - F) / Stride + 1\n"
   ]
  },
  {
   "cell_type": "markdown",
   "metadata": {
    "slideshow": {
     "slide_type": "fragment"
    }
   },
   "source": [
    "### However, in subsequent conv layers the volume shrinks quickly..."
   ]
  },
  {
   "cell_type": "markdown",
   "metadata": {
    "slideshow": {
     "slide_type": "slide"
    }
   },
   "source": [
    "### So, what do we do ??"
   ]
  },
  {
   "cell_type": "markdown",
   "metadata": {
    "slideshow": {
     "slide_type": "fragment"
    }
   },
   "source": [
    "### pad the image with zeros around the edges.\n",
    "\n",
    "* This preserves the saptial dimsion of the activation maps\n",
    "\n",
    "### Dimension of output is then given by (N - F +2P) / Stride + 1"
   ]
  },
  {
   "cell_type": "markdown",
   "metadata": {
    "slideshow": {
     "slide_type": "slide"
    }
   },
   "source": [
    "## Question 1\n",
    "\n",
    "Suppose you have a 32 X 32 X 3 image and there are 10 filters of size 7 X 7 X 3, what will\n",
    "be the size of output activation maps if the stride is 1?"
   ]
  },
  {
   "cell_type": "markdown",
   "metadata": {
    "slideshow": {
     "slide_type": "fragment"
    }
   },
   "source": [
    "* (N - F) / Stride + 1\n",
    " \n",
    " N = 32, F = 7, stride = 1\n",
    " \n",
    " => (32 - 7)/1 + 1 = 26 ; output activation map size = 26 X 26 X 10"
   ]
  },
  {
   "cell_type": "markdown",
   "metadata": {
    "slideshow": {
     "slide_type": "slide"
    }
   },
   "source": [
    "## Question 2\n",
    "\n",
    "What will be the number of parameters in a conv layer with filters of size 5 X 5 X 3 and there are 10 of them ? "
   ]
  },
  {
   "cell_type": "markdown",
   "metadata": {
    "slideshow": {
     "slide_type": "fragment"
    }
   },
   "source": [
    "5*5*3*10 +10 = 760"
   ]
  },
  {
   "cell_type": "markdown",
   "metadata": {
    "slideshow": {
     "slide_type": "slide"
    }
   },
   "source": [
    "### So what is actually happening ?\n"
   ]
  },
  {
   "cell_type": "markdown",
   "metadata": {
    "slideshow": {
     "slide_type": "slide"
    }
   },
   "source": [
    "### Filters at layer 1\n",
    "    1. How straight is a line at this given patch.\n",
    "    2. is the given line an edge\n",
    "    \n",
    "\n"
   ]
  },
  {
   "cell_type": "markdown",
   "metadata": {
    "slideshow": {
     "slide_type": "fragment"
    }
   },
   "source": [
    "#### Filters at level 2\n",
    "    1. is the point in the patch a corner point\n",
    "    2. What is the roundness of the image in the given patch and so on."
   ]
  },
  {
   "cell_type": "markdown",
   "metadata": {
    "slideshow": {
     "slide_type": "notes"
    }
   },
   "source": [
    "\n",
    "* In the subsequent layers we start asking more complicated questions.\n",
    "\n",
    "\n",
    "* The main take away point is that we are extracting information from shallow layers and \n",
    "    and as we go deeper we sought to answer more abstract and complicated questions for example whether the given image    contain's a cat or a dog."
   ]
  },
  {
   "cell_type": "markdown",
   "metadata": {
    "slideshow": {
     "slide_type": "slide"
    }
   },
   "source": [
    "### The crucial step is to learn what questions to ask at each layer. \n",
    "\n"
   ]
  },
  {
   "cell_type": "markdown",
   "metadata": {
    "slideshow": {
     "slide_type": "fragment"
    }
   },
   "source": [
    "* In the begining the all the filters are initialized randomly and ask the network to predict whether the given picture contains cat or dog. \n",
    "\n",
    "* The network makes some assumptions and based on the assumption, weights of the networks are learned, via back prop.\n",
    "\n"
   ]
  },
  {
   "cell_type": "markdown",
   "metadata": {
    "slideshow": {
     "slide_type": "slide"
    }
   },
   "source": [
    "\n",
    "![CNN:5](static/5.png)"
   ]
  },
  {
   "cell_type": "markdown",
   "metadata": {},
   "source": [
    "2. Pooling Layer\n",
    "\n",
    "![CNN:pooling](static/pooling.png)"
   ]
  },
  {
   "cell_type": "markdown",
   "metadata": {
    "slideshow": {
     "slide_type": "slide"
    }
   },
   "source": [
    "\n",
    "- To make representation smaller and more managable\n",
    "- Performed over each activation map independently\n",
    "- Max pooling slides window over map and chooses highest value for the entire window\n",
    "\n",
    "- Dimensions?"
   ]
  },
  {
   "cell_type": "markdown",
   "metadata": {
    "slideshow": {
     "slide_type": "slide"
    }
   },
   "source": [
    "3. Dropout\n",
    "    \n",
    "    ![Dropout](static/dropout.png)\n",
    "\n"
   ]
  },
  {
   "cell_type": "markdown",
   "metadata": {},
   "source": [
    "- Randomly \"drops\" some weights\n",
    "- Forces network to have redundant representation\n",
    "- Considered an important tool against overfitting"
   ]
  },
  {
   "cell_type": "markdown",
   "metadata": {
    "slideshow": {
     "slide_type": "slide"
    }
   },
   "source": [
    "4. Activation Functions\n",
    "    - To bring in non-linearity (If linear, one hidden layer can give same output as n hidden layers)\n",
    "    - Same activation functions as used in fully connected networks used with CNNs\n",
    "    - Examples: Sigmoid, TanH, ReLU, Leaky ReLU, PReLU"
   ]
  },
  {
   "cell_type": "markdown",
   "metadata": {
    "slideshow": {
     "slide_type": "slide"
    }
   },
   "source": [
    "### AlexNet\n",
    "\n",
    "1. Designed by Alex Krizhevsky and published with Ilya Sutskever and Geoff Hinton.\n",
    "2. Over 25000 citations\n",
    "3. Winner of ImageNet challenge 2012\n",
    "4. First deep convolutional neural network based architecture\n",
    "5. Error rate ~11% lower than runner up team.\n",
    "6. Led to widespread use of CNNs in Computer Vision\n"
   ]
  },
  {
   "cell_type": "markdown",
   "metadata": {
    "slideshow": {
     "slide_type": "slide"
    }
   },
   "source": [
    "![AlexNet](static/alexnet.png)\n"
   ]
  },
  {
   "cell_type": "markdown",
   "metadata": {
    "slideshow": {
     "slide_type": "slide"
    }
   },
   "source": [
    "### Solving MNIST with CNNs"
   ]
  },
  {
   "cell_type": "code",
   "execution_count": 32,
   "metadata": {
    "slideshow": {
     "slide_type": "slide"
    }
   },
   "outputs": [],
   "source": [
    "import torch\n",
    "import torchvision\n",
    "import torchvision.transforms as transforms\n",
    "\n",
    "import torch.nn as nn\n",
    "import torch.nn.functional as F\n",
    "\n",
    "import torch.optim as optim"
   ]
  },
  {
   "cell_type": "code",
   "execution_count": 33,
   "metadata": {
    "slideshow": {
     "slide_type": "slide"
    }
   },
   "outputs": [],
   "source": [
    "transform = transforms.Compose(\n",
    "    [transforms.ToTensor(),\n",
    "     transforms.Normalize((0.5, 0.5, 0.5), (0.5, 0.5, 0.5))])\n",
    "\n",
    "trainset = torchvision.datasets.MNIST(root='./data', train=True,\n",
    "                                        download=True, transform=transform)\n",
    "trainloader = torch.utils.data.DataLoader(trainset, batch_size=4,\n",
    "                                          shuffle=True, num_workers=2)\n",
    "\n",
    "testset = torchvision.datasets.MNIST(root='./data', train=False,\n",
    "                                       download=True, transform=transform)\n",
    "testloader = torch.utils.data.DataLoader(testset, batch_size=4,\n",
    "                                         shuffle=False, num_workers=2)\n",
    "\n",
    "classes = ('0', '1', '2', '3',\n",
    "           '4', '5', '6', '7', '8', '9')"
   ]
  },
  {
   "cell_type": "code",
   "execution_count": 34,
   "metadata": {
    "slideshow": {
     "slide_type": "slide"
    }
   },
   "outputs": [],
   "source": [
    "class Net(nn.Module):\n",
    "    def __init__(self):\n",
    "        super(Net, self).__init__()\n",
    "        self.conv1 = nn.Conv2d(1, 6, 5)\n",
    "        self.pool = nn.MaxPool2d(2, 2)\n",
    "        self.conv2 = nn.Conv2d(6, 16, 5)\n",
    "        self.fc1 = nn.Linear(16 * 4 * 4, 120)\n",
    "        self.fc2 = nn.Linear(120, 10)\n",
    "\n",
    "    def forward(self, x):\n",
    "        x = self.pool(F.relu(self.conv1(x)))\n",
    "        x = self.pool(F.relu(self.conv2(x)))\n",
    "        x = x.view(-1, 16 * 4 * 4)\n",
    "        x = F.relu(self.fc1(x))\n",
    "        x = self.fc2(x)\n",
    "        return x\n",
    "\n",
    "\n",
    "net = Net()\n"
   ]
  },
  {
   "cell_type": "code",
   "execution_count": 35,
   "metadata": {
    "slideshow": {
     "slide_type": "slide"
    }
   },
   "outputs": [],
   "source": [
    "criterion = nn.CrossEntropyLoss()\n",
    "optimizer = optim.SGD(net.parameters(), lr=0.001, momentum=0.9)"
   ]
  },
  {
   "cell_type": "code",
   "execution_count": 28,
   "metadata": {
    "slideshow": {
     "slide_type": "slide"
    }
   },
   "outputs": [
    {
     "name": "stdout",
     "output_type": "stream",
     "text": [
      "[1,  2000] loss: 0.749\n",
      "[1,  4000] loss: 0.168\n",
      "[1,  6000] loss: 0.122\n",
      "[1,  8000] loss: 0.102\n",
      "[1, 10000] loss: 0.083\n",
      "[1, 12000] loss: 0.085\n",
      "[1, 14000] loss: 0.075\n",
      "[2,  2000] loss: 0.061\n",
      "[2,  4000] loss: 0.055\n",
      "[2,  6000] loss: 0.058\n",
      "[2,  8000] loss: 0.049\n",
      "[2, 10000] loss: 0.053\n",
      "[2, 12000] loss: 0.053\n",
      "[2, 14000] loss: 0.050\n",
      "Finished Training\n"
     ]
    }
   ],
   "source": [
    "for epoch in range(2):  # loop over the dataset multiple times\n",
    "\n",
    "    running_loss = 0.0\n",
    "    for i, data in enumerate(trainloader, 0):\n",
    "        # get the inputs\n",
    "        inputs, labels = data\n",
    "\n",
    "        # zero the parameter gradients\n",
    "        optimizer.zero_grad()\n",
    "\n",
    "        # forward + backward + optimize\n",
    "        outputs = net(inputs)\n",
    "        loss = criterion(outputs, labels)\n",
    "        loss.backward()\n",
    "        optimizer.step()\n",
    "\n",
    "        # print statistics\n",
    "        running_loss += loss.item()\n",
    "        if i % 2000 == 1999:    # print every 2000 mini-batches\n",
    "            print('[%d, %5d] loss: %.3f' %\n",
    "                  (epoch + 1, i + 1, running_loss / 2000))\n",
    "            running_loss = 0.0\n",
    "\n",
    "print('Finished Training')\n"
   ]
  },
  {
   "cell_type": "code",
   "execution_count": 29,
   "metadata": {
    "slideshow": {
     "slide_type": "slide"
    }
   },
   "outputs": [
    {
     "name": "stdout",
     "output_type": "stream",
     "text": [
      "Accuracy of the network on the test images: 98 %\n"
     ]
    }
   ],
   "source": [
    "correct = 0\n",
    "total = 0\n",
    "with torch.no_grad():\n",
    "    for data in testloader:\n",
    "        images, labels = data\n",
    "        outputs = net(images)\n",
    "        _, predicted = torch.max(outputs.data, 1)\n",
    "        total += labels.size(0)\n",
    "        correct += (predicted == labels).sum().item()\n",
    "\n",
    "print('Accuracy of the network on the test images: %d %%' % (\n",
    "    100 * correct / total))\n"
   ]
  },
  {
   "cell_type": "code",
   "execution_count": 30,
   "metadata": {},
   "outputs": [
    {
     "name": "stdout",
     "output_type": "stream",
     "text": [
      "Accuracy of     0 : 99 %\n",
      "Accuracy of     1 : 99 %\n",
      "Accuracy of     2 : 98 %\n",
      "Accuracy of     3 : 98 %\n",
      "Accuracy of     4 : 99 %\n",
      "Accuracy of     5 : 98 %\n",
      "Accuracy of     6 : 98 %\n",
      "Accuracy of     7 : 99 %\n",
      "Accuracy of     8 : 98 %\n",
      "Accuracy of     9 : 97 %\n"
     ]
    }
   ],
   "source": [
    "class_correct = list(0. for i in range(10))\n",
    "class_total = list(0. for i in range(10))\n",
    "with torch.no_grad():\n",
    "    for data in testloader:\n",
    "        images, labels = data\n",
    "        outputs = net(images)\n",
    "        _, predicted = torch.max(outputs, 1)\n",
    "        c = (predicted == labels).squeeze()\n",
    "        for i in range(4):\n",
    "            label = labels[i]\n",
    "            class_correct[label] += c[i].item()\n",
    "            class_total[label] += 1\n",
    "\n",
    "\n",
    "for i in range(10):\n",
    "    print('Accuracy of %5s : %2d %%' % (\n",
    "        classes[i], 100 * class_correct[i] / class_total[i]))\n"
   ]
  },
  {
   "cell_type": "code",
   "execution_count": null,
   "metadata": {},
   "outputs": [],
   "source": []
  }
 ],
 "metadata": {
  "celltoolbar": "Slideshow",
  "kernelspec": {
   "display_name": "Python 3",
   "language": "python",
   "name": "python3"
  },
  "language_info": {
   "codemirror_mode": {
    "name": "ipython",
    "version": 3
   },
   "file_extension": ".py",
   "mimetype": "text/x-python",
   "name": "python",
   "nbconvert_exporter": "python",
   "pygments_lexer": "ipython3",
   "version": "3.5.2"
  }
 },
 "nbformat": 4,
 "nbformat_minor": 2
}
