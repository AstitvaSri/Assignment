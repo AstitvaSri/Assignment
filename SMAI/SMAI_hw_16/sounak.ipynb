{
 "cells": [
  {
   "cell_type": "code",
   "execution_count": 22,
   "metadata": {},
   "outputs": [],
   "source": [
    "import os\n",
    "import _pickle as pickle\n",
    "import numpy as np\n",
    "import matplotlib.pyplot as plt"
   ]
  },
  {
   "cell_type": "code",
   "execution_count": 14,
   "metadata": {},
   "outputs": [],
   "source": [
    "def unpickle(file):\n",
    "    with open(file, 'rb') as foo:\n",
    "        dict = pickle.load(foo, encoding='bytes')\n",
    "    return dict"
   ]
  },
  {
   "cell_type": "code",
   "execution_count": 27,
   "metadata": {},
   "outputs": [
    {
     "data": {
      "text/plain": [
       "(10000, 1024)"
      ]
     },
     "execution_count": 27,
     "metadata": {},
     "output_type": "execute_result"
    }
   ],
   "source": [
    "data = unpickle('./cifar-10-batches-py/data_batch_1')\n",
    "X = np.zeros((data[b'data'].shape[0], int(data[b'data'].shape[1]/3)))\n",
    "X += 0.3 * data[b'data'][:, :1024] \n",
    "X += 0.59 * data[b'data'][:, 1024:2048]\n",
    "X += 0.11 * data[b'data'][:, 2048:3072]\n",
    "X.shape"
   ]
  },
  {
   "cell_type": "code",
   "execution_count": 38,
   "metadata": {},
   "outputs": [
    {
     "data": {
      "text/plain": [
       "(10000,)"
      ]
     },
     "execution_count": 38,
     "metadata": {},
     "output_type": "execute_result"
    }
   ],
   "source": [
    "Y = np.array(data[b'labels'])\n",
    "Y.shape"
   ]
  },
  {
   "cell_type": "code",
   "execution_count": 40,
   "metadata": {},
   "outputs": [
    {
     "data": {
      "text/plain": [
       "(10000, 100)"
      ]
     },
     "execution_count": 40,
     "metadata": {},
     "output_type": "execute_result"
    }
   ],
   "source": [
    "# PCA\n",
    "from sklearn.decomposition import PCA\n",
    "pca = PCA(n_components=100)\n",
    "X_pca = pca.fit_transform(X)\n",
    "X_pca.shape"
   ]
  },
  {
   "cell_type": "code",
   "execution_count": 46,
   "metadata": {},
   "outputs": [
    {
     "data": {
      "text/plain": [
       "(10000, 9)"
      ]
     },
     "execution_count": 46,
     "metadata": {},
     "output_type": "execute_result"
    }
   ],
   "source": [
    "# LDA\n",
    "from sklearn.discriminant_analysis import LinearDiscriminantAnalysis as LDA\n",
    "lda = LDA()\n",
    "X_lda = lda.fit_transform(X, Y)\n",
    "X_lda.shape"
   ]
  },
  {
   "cell_type": "code",
   "execution_count": 47,
   "metadata": {},
   "outputs": [
    {
     "data": {
      "text/plain": [
       "(10000, 9)"
      ]
     },
     "execution_count": 47,
     "metadata": {},
     "output_type": "execute_result"
    }
   ],
   "source": [
    "# LDA after PCA\n",
    "X_lp = lda.fit_transform(X_pca, Y)\n",
    "X_lp.shape"
   ]
  },
  {
   "cell_type": "code",
   "execution_count": 175,
   "metadata": {},
   "outputs": [],
   "source": [
    "# Pairwise classification\n",
    "class PairWiseClassification:\n",
    "    def __init__(self):\n",
    "        pass\n",
    "\n",
    "    def fit(self, X, Y):\n",
    "        self.labels = set(Y)\n",
    "        self.labelled_X = {}\n",
    "        for label in self.labels:\n",
    "            self.labelled_X[label] = []\n",
    "        for i in range(Y.shape[0]):\n",
    "            self.labelled_X[Y[i]].append(X[i])\n",
    "        for label in self.labels:\n",
    "            self.labelled_X[label] = np.array(self.labelled_X[label])\n",
    "\n",
    "        from sklearn.linear_model import LogisticRegression as LR\n",
    "        self.classifiers = {}\n",
    "        for label_1 in self.labels:\n",
    "            for label_2 in self.labels:\n",
    "                if label_1 != label_2:\n",
    "                    n1 = self.labelled_X[label_1].shape[0]\n",
    "                    n2 = self.labelled_X[label_2].shape[0]\n",
    "                    _X = np.zeros(((n1 + n2), X.shape[1]))\n",
    "                    _Y = np.ones(((n1 + n2), ))\n",
    "                    _X[:n1, :] = self.labelled_X[label_1]\n",
    "                    _X[n1:, :] = self.labelled_X[label_2]\n",
    "                    _Y[:n1] *= label_1\n",
    "                    _Y[n1:] *= label_2\n",
    "                    self.classifiers[(label_1, label_2)] = LR(solver='liblinear').fit(_X, _Y)\n",
    "                \n",
    "    def predict(self, X):\n",
    "        X = np.array(X)\n",
    "        _Y = []\n",
    "        for clf in self.classifiers.values():\n",
    "            _Y.append(clf.predict(X))\n",
    "        _Y = np.array(_Y).T\n",
    "        \n",
    "        Y = []\n",
    "        from collections import Counter\n",
    "        for i in range(_Y.shape[0]):\n",
    "            c = Counter(_Y[i])\n",
    "            Y.append(int(c.most_common(1)[0][0]))\n",
    "        return np.array(Y)"
   ]
  },
  {
   "cell_type": "code",
   "execution_count": 176,
   "metadata": {},
   "outputs": [
    {
     "data": {
      "text/plain": [
       "((10000, 1024), (10000,))"
      ]
     },
     "execution_count": 176,
     "metadata": {},
     "output_type": "execute_result"
    }
   ],
   "source": [
    "test_data = unpickle('./cifar-10-batches-py/test_batch')\n",
    "test_X = np.zeros((test_data[b'data'].shape[0], int(test_data[b'data'].shape[1]/3)))\n",
    "test_X += 0.3 * test_data[b'data'][:, :1024] \n",
    "test_X += 0.59 * test_data[b'data'][:, 1024:2048]\n",
    "test_X += 0.11 * test_data[b'data'][:, 2048:3072]\n",
    "test_Y = np.array(test_data[b'labels'])\n",
    "\n",
    "test_X.shape, test_Y.shape"
   ]
  },
  {
   "cell_type": "code",
   "execution_count": 177,
   "metadata": {},
   "outputs": [],
   "source": [
    "test_X_pca = pca.fit_transform(test_X)\n",
    "test_X_lda = lda.fit_transform(test_X, test_Y)\n",
    "test_X_lp = lda.fit_transform(test_X_pca, test_Y)"
   ]
  },
  {
   "cell_type": "code",
   "execution_count": 178,
   "metadata": {},
   "outputs": [],
   "source": [
    "pwc = PairWiseClassification()"
   ]
  },
  {
   "cell_type": "code",
   "execution_count": 179,
   "metadata": {},
   "outputs": [],
   "source": [
    "pwc.fit(X_pca, Y)\n",
    "test_Y_pca = pwc.predict(test_X_pca)\n",
    "\n",
    "pwc.fit(X_lda, Y)\n",
    "test_Y_lda = pwc.predict(test_X_lda)\n",
    "\n",
    "pwc.fit(X_lp, Y)\n",
    "test_Y_lp = pwc.predict(test_X_lp)"
   ]
  },
  {
   "cell_type": "code",
   "execution_count": 183,
   "metadata": {},
   "outputs": [],
   "source": [
    "def find_accuracy(Y, _Y):\n",
    "    score = 0\n",
    "    for i in range(Y.shape[0]):\n",
    "        if Y[i] == _Y[i]:\n",
    "            score += 1\n",
    "    return (score / Y.shape[0]) * 100"
   ]
  },
  {
   "cell_type": "code",
   "execution_count": 192,
   "metadata": {},
   "outputs": [
    {
     "data": {
      "text/plain": [
       "11.83"
      ]
     },
     "execution_count": 192,
     "metadata": {},
     "output_type": "execute_result"
    }
   ],
   "source": [
    "find_accuracy(test_Y_pca, test_Y)"
   ]
  },
  {
   "cell_type": "code",
   "execution_count": 191,
   "metadata": {},
   "outputs": [
    {
     "data": {
      "text/plain": [
       "19.37"
      ]
     },
     "execution_count": 191,
     "metadata": {},
     "output_type": "execute_result"
    }
   ],
   "source": [
    "find_accuracy(test_Y_lda, test_Y)"
   ]
  },
  {
   "cell_type": "code",
   "execution_count": 190,
   "metadata": {},
   "outputs": [
    {
     "data": {
      "text/plain": [
       "25.7"
      ]
     },
     "execution_count": 190,
     "metadata": {},
     "output_type": "execute_result"
    }
   ],
   "source": [
    "find_accuracy(test_Y_lp, test_Y)"
   ]
  },
  {
   "cell_type": "code",
   "execution_count": null,
   "metadata": {},
   "outputs": [],
   "source": []
  }
 ],
 "metadata": {
  "kernelspec": {
   "display_name": "Python 3",
   "language": "python",
   "name": "python3"
  },
  "language_info": {
   "codemirror_mode": {
    "name": "ipython",
    "version": 3
   },
   "file_extension": ".py",
   "mimetype": "text/x-python",
   "name": "python",
   "nbconvert_exporter": "python",
   "pygments_lexer": "ipython3",
   "version": "3.6.5"
  }
 },
 "nbformat": 4,
 "nbformat_minor": 2
}
