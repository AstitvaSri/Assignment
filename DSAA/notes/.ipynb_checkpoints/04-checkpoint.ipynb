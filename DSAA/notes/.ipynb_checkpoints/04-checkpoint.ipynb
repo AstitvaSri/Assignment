{
 "cells": [
  {
   "cell_type": "markdown",
   "metadata": {},
   "source": [
    "# Convolution \n",
    "\ty(n) = T(x(n)) = sum(x(k)*h(n-k))\n",
    "\tsum for k \n",
    "\n",
    "\teg. \n",
    "\tx[n] = [1,2,3,1]\n",
    "\th[n] = [1,2,1,-1]\n",
    "\n",
    "\toptimaztion problem would be to solve h[n]"
   ]
  },
  {
   "cell_type": "code",
   "execution_count": 1,
   "metadata": {},
   "outputs": [],
   "source": [
    "import matplotlib.pyplot as plt \n",
    "import numpy"
   ]
  },
  {
   "cell_type": "code",
   "execution_count": 6,
   "metadata": {},
   "outputs": [
    {
     "data": {
      "image/png": "[encoded data removed]",
      "text/plain": [
       "<matplotlib.figure.Figure at 0x7f988f82b2b0>"
      ]
     },
     "metadata": {},
     "output_type": "display_data"
    }
   ],
   "source": [
    "x = [1,2,3,1]\n",
    "h = [1,2,1,-1]\n",
    "plt.scatter([1,2,3,4],x,label='x')\n",
    "plt.scatter([1,2,3,4],h,label='h')\n",
    "plt.legend()\n",
    "plt.show()"
   ]
  },
  {
   "cell_type": "code",
   "execution_count": 15,
   "metadata": {},
   "outputs": [
    {
     "data": {
      "image/png": "[encoded data removed]",
      "text/plain": [
       "<matplotlib.figure.Figure at 0x7f988f76e828>"
      ]
     },
     "metadata": {},
     "output_type": "display_data"
    }
   ],
   "source": [
    "# Using exam trick \n",
    "y = [1,4,8,8,3,-2]\n",
    "plt.scatter([1,2,3,4,5,6],y)\n",
    "plt.show()    "
   ]
  },
  {
   "cell_type": "code",
   "execution_count": 26,
   "metadata": {},
   "outputs": [],
   "source": [
    "# Second example \n",
    "n = 20 \n",
    "x = [1 for i in range(n)]\n",
    "a = 0.5\n",
    "h = [0 for i in range(n)]\n",
    "h[0] = 1 \n",
    "for i in range(1,n):\n",
    "     h[i] = a*x[i-1] "
   ]
  },
  {
   "cell_type": "code",
   "execution_count": 27,
   "metadata": {},
   "outputs": [
    {
     "data": {
      "image/png": "[encoded data removed]",
      "text/plain": [
       "<matplotlib.figure.Figure at 0x7f988f5d05f8>"
      ]
     },
     "metadata": {},
     "output_type": "display_data"
    }
   ],
   "source": [
    "# By performing convolution we get \n",
    "y = [0 for i in range(n)]\n",
    "y[0] = 1 \n",
    "temp = 1\n",
    "for i in range(1,n):\n",
    "    temp = temp*a\n",
    "    y[i] = temp + y[i-1]\n",
    "plt.scatter([i for i in range(len(y))],y)\n",
    "plt.show()"
   ]
  },
  {
   "cell_type": "markdown",
   "metadata": {},
   "source": [
    "# Properties of Convolution \n",
    "##  Commutative \n",
    "   m = n-k\n",
    "   k = n-m \n",
    "   hence if replace this we get \n",
    "   y(n) = T(x(n)) = sum(x(n-m)*h(m))\n",
    "   \n",
    "## Distribuitive   \n",
    "    x(n)*h1(n)*h2(n) = x(n)*(h1(n)*h2(n))"
   ]
  },
  {
   "cell_type": "markdown",
   "metadata": {},
   "source": [
    "# Correlation \n",
    "    y(n) = T(x(n)) = sum(x(n+m)*h(m))\n",
    "    Just slide, do not flip\n",
    "# 2 D convolution \n",
    "    1. Don't take transpose\n",
    "    2. Use fourier transpose\n",
    "    "
   ]
  },
  {
   "cell_type": "code",
   "execution_count": null,
   "metadata": {},
   "outputs": [],
   "source": []
  }
 ],
 "metadata": {
  "kernelspec": {
   "display_name": "Python 3",
   "language": "python",
   "name": "python3"
  },
  "language_info": {
   "codemirror_mode": {
    "name": "ipython",
    "version": 3
   },
   "file_extension": ".py",
   "mimetype": "text/x-python",
   "name": "python",
   "nbconvert_exporter": "python",
   "pygments_lexer": "ipython3",
   "version": "3.5.3"
  }
 },
 "nbformat": 4,
 "nbformat_minor": 2
}
