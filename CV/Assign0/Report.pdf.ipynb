{
 "cells": [
  {
   "cell_type": "markdown",
   "metadata": {},
   "source": [
    "# CV Assignment 0: OpenCV and Chroma Keying\n",
    "\n",
    "\n",
    "## Task 1 Installing Opencv\n",
    "\n",
    "I was able to successfully able to install and run opencv in python and c++. I can show it in the examples below.\n",
    "\n",
    "## Task 2 Chroma Keying\n",
    "### Subtask 1: Video to images\n",
    "\n"
   ]
  },
  {
   "cell_type": "code",
   "execution_count": 1,
   "metadata": {},
   "outputs": [],
   "source": [
    "# Important Imports\n",
    "import os\n",
    "import cv2\n",
    "import numpy as np\n",
    "import matplotlib.pyplot as plt\n",
    "%matplotlib inline "
   ]
  },
  {
   "cell_type": "code",
   "execution_count": 2,
   "metadata": {},
   "outputs": [],
   "source": [
    "# Function to convert videos to images using VideoCapture class in opencv\n",
    "\n",
    "def video2image(path):\n",
    "\t\"\"\"\n",
    "\t\tIt will convert video to frames which are stored in a directory same name as of the video\n",
    "\n",
    "\t\tparams :=> Given path to any video (mpeg, mp4,avi) \n",
    "\t\treturn: None\n",
    "\t\tfiles: takes video as input and returns a directory of frames \n",
    "\t\t\n",
    "\t\tincase path = 0(webcam), images are stored in a directory named webcam \n",
    "\t\"\"\"\n",
    "\n",
    "\t# Initialize video\n",
    "\tcap = cv2.VideoCapture(path)\n",
    "\n",
    "\tif (cap.isOpened()== False): \n",
    "\t\tprint(\"Error opening video stream or file\")\n",
    "\t\treturn\n",
    "\n",
    "\t# If path = 0 we are running the webcam\n",
    "\tif path == 0:\n",
    "\t\tdir_name = 'webcam'\n",
    "\telse:\n",
    "\t\tdir_name = path.split('.')[0]\n",
    "\n",
    "\t# Create the dir \n",
    "\tif not os.path.isdir(dir_name):\n",
    "\t\tos.mkdir(dir_name)\n",
    "\n",
    "\t# Write frames into the dir\n",
    "\tcnt = 0\n",
    "\twhile cap.isOpened():\n",
    "\t\tret,frame = cap.read()\n",
    "\t\tif ret == True:\n",
    "\t\t\tcv2.imshow('Frame',frame)\n",
    "\t\t\t\n",
    "\t\t\tcv2.imwrite('{}/{}.png'.format(dir_name,cnt),frame)\n",
    "\t\t\tcnt += 1\n",
    "\t\t\t# Press Q on keyboard to  exit\n",
    "\t\t\tif cv2.waitKey(25) & 0xFF == ord('q'):\n",
    "\t\t\t\tbreak\n",
    "\t\telse:\n",
    "\t\t\tbreak\n",
    "# \t\tif cnt >= 100:\n",
    "# \t\t\tbreak\n",
    "# \t\telse:\n",
    "# \t\t\tbreak\n",
    "\t\n",
    "\t# Close files\n",
    "\tcap.release()\n",
    "\tcv2.destroyAllWindows()\n",
    "\n",
    "\treturn\n",
    "\n"
   ]
  },
  {
   "cell_type": "markdown",
   "metadata": {},
   "source": [
    "# Testing for webcam and normal videos\n",
    "\n",
    "    Link to the frames folders:\n",
    "            webcam:https://drive.google.com/drive/folders/1vepM6Evg5eI-LzOTpAdGmLm87nhVfhS-?usp=sharing\n",
    "        meme_video: https://drive.google.com/drive/folders/1JgsA2AG_LxiAVe15cMfke0tmZhO5aYSh?usp=sharing "
   ]
  },
  {
   "cell_type": "code",
   "execution_count": 3,
   "metadata": {},
   "outputs": [],
   "source": [
    "video2image(0)\n",
    "video2image('meme_video.mp4')"
   ]
  },
  {
   "cell_type": "markdown",
   "metadata": {},
   "source": [
    "### Subtask 2 frames to video"
   ]
  },
  {
   "cell_type": "code",
   "execution_count": 4,
   "metadata": {},
   "outputs": [],
   "source": [
    "# Convert frame of images to a vide we are using mp4 format\n",
    "def image2video(dir_path):\n",
    "\t\"\"\"\n",
    "\tIt will convert frames to video which are stored in a directory same name as of the video\n",
    "\n",
    "\tparams :=> Given path to any image dir (png, jpeg, jpg) \n",
    "\treturn: None\n",
    "\tfiles : video(avi):  \n",
    "\t\n",
    "\t\"\"\"\n",
    "\t# Create a new video\n",
    "\tpath = dir_path + '.avi'\n",
    "\n",
    "\t# Set parameters\n",
    "\tfps = 30.0\n",
    "\twidth = 480\n",
    "\theight= 640\n",
    "\tfourcc = cv2.VideoWriter_fourcc(*'XVID')\n",
    "\tcap = cv2.VideoWriter(path,fourcc,fps,(height,width),1)\n",
    "\n",
    "\n",
    "\t# List elements and sort them using their names  \n",
    "\tcnt = 0\n",
    "\timage_list = sorted(os.listdir(dir_path),key=lambda x: int(x.split('.')[0]))\n",
    "\tfor filename in image_list:\n",
    "\t\tframe = cv2.imread(os.path.join(dir_path,filename))\n",
    "\t\tcnt += 1\n",
    "\t\tcap.write(frame)\n",
    "\t\tcv2.imshow('Frame',frame)\n",
    "\t\t# Press Q on keyboard to  exit\n",
    "\t\tif cv2.waitKey(25) & 0xFF == ord('q'):\n",
    "\t\t\tbreak\n",
    "\tcap.release()\n",
    "\tcv2.destroyAllWindows()\n",
    "\n",
    "\treturn"
   ]
  },
  {
   "cell_type": "markdown",
   "metadata": {},
   "source": [
    "# Testing for webcam and normal videos\n",
    "\n",
    "    Link to the videos:\n",
    "            webcam:https://drive.google.com/drive/folders/1vepM6Evg5eI-LzOTpAdGmLm87nhVfhS-?usp=sharing\n",
    "        meme_video: https://drive.google.com/file/d/1qmSMu9gwaRR27YXQUDHWBQEsREZybNgd/view?usp=sharing "
   ]
  },
  {
   "cell_type": "code",
   "execution_count": 7,
   "metadata": {},
   "outputs": [],
   "source": [
    "image2video('webcam')\n",
    "image2video('meme_video')"
   ]
  },
  {
   "cell_type": "markdown",
   "metadata": {},
   "source": [
    "### Subtask 3: Chroma Keying"
   ]
  },
  {
   "cell_type": "code",
   "execution_count": 9,
   "metadata": {},
   "outputs": [],
   "source": [
    "\n",
    "def croma_key(fg_video,bg_video):\n",
    "\n",
    "\t\"\"\"\n",
    "\t\tGiven a green screen video and a background merge the 2 create a new video\n",
    "\t\tparams :=> fg_video: foreground green screen image\n",
    "\t\t\t\t   bg_video: background screen image\t\t\t\n",
    "\t\"\"\"\n",
    "\n",
    "\t# Convert 2 videos to images\n",
    "\tvideo2image(fg_video)\n",
    "\tvideo2image(bg_video)\n",
    "\n",
    "\n",
    "\t# Get their frame dir names \n",
    "\tfg_dir = fg_video.split('.')[0]\n",
    "\tbg_dir = bg_video.split('.')[0]\n",
    "\tRED, GREEN, BLUE = (2, 1, 0)\n",
    "\t\n",
    "\t# Create the list of images\n",
    "\tcnt_list = [ int(file.split('.')[0]) for file in os.listdir(fg_dir)]\n",
    "\tcnt_list1 = [ int(file.split('.')[0]) for file in os.listdir(bg_dir)]\n",
    "\n",
    "\tcnt_list = sorted(cnt_list)\n",
    "\tcnt_list1 = sorted(cnt_list1)\n",
    "\n",
    "\t# Output dir name\n",
    "\tout_dir = 'chroma'\n",
    "\tfor cnt in cnt_list:\n",
    "\t\t# Read and resize images\n",
    "\t\tfg_img = cv2.imread('{}/{}.png'.format(fg_dir,cnt))\n",
    "\t\tbg_img = next(iter(cnt_list1))\n",
    "\t\th,w,c = fg_img.shape\n",
    "\t\t\n",
    "\t\tbg_img = cv2.imread('{}/{}.png'.format(bg_dir,bg_img))\t\t\n",
    "\n",
    "\t\tprint(fg_img.shape,bg_img.shape)\n",
    "\t\tbg_img = cv2.resize(bg_img, (h,w)) \n",
    "\n",
    "\t\t# Get mask \n",
    "\t\treds = fg_img[:, :, RED]\n",
    "\t\tgreens = fg_img[:, :, GREEN]\n",
    "\t\tblues = fg_img[:, :, BLUE]\n",
    "\n",
    "\t\t# Threshold  == 35\n",
    "\t\tmask = (greens < 35) | (np.amax(fg_img, axis=2) != greens)\n",
    "\n",
    "\t\tmask_fg = np.where(mask==1)\n",
    "\t\tmask_fg = np.array([mask_fg,mask_fg,mask_fg]).T\n",
    "\t\tmask_bg = np.where(mask==0)\n",
    "\t\tmask_bg = np.array([mask_bg,mask_bg,mask_bg]).T\n",
    "\n",
    "\t\t# Create new image\n",
    "\t\tnew_image = np.zeros((w,h,c))\n",
    "\t\tnew_image[mask_fg] = fg_img[mask_fg]\n",
    "\t\tnew_image[mask_bg] = bg_img[mask_bg]\n",
    "\n",
    "\t\t# Write to output frames dir\n",
    "\t\tcv2.imwrite('{}/{}.png'.format(out_dir,cnt),new_image)\n",
    "\t\t\n",
    "\t# Convert to video\n",
    "\timage2video(out_dir)\t\n",
    "\n",
    "\treturn"
   ]
  },
  {
   "cell_type": "code",
   "execution_count": 11,
   "metadata": {},
   "outputs": [],
   "source": [
    "croma_key('fire_bomb.mp4','meme_video.mp4')"
   ]
  },
  {
   "cell_type": "markdown",
   "metadata": {},
   "source": [
    "## Output of croma keying can be found here:\n",
    "https://drive.google.com/file/d/1HRYDg37le4ldXV7ELT5OqDEQOlloM0Gz/view?usp=sharing"
   ]
  },
  {
   "cell_type": "code",
   "execution_count": null,
   "metadata": {},
   "outputs": [],
   "source": []
  }
 ],
 "metadata": {
  "kernelspec": {
   "display_name": "Python 3",
   "language": "python",
   "name": "python3"
  },
  "language_info": {
   "codemirror_mode": {
    "name": "ipython",
    "version": 3
   },
   "file_extension": ".py",
   "mimetype": "text/x-python",
   "name": "python",
   "nbconvert_exporter": "python",
   "pygments_lexer": "ipython3",
   "version": "3.5.2"
  }
 },
 "nbformat": 4,
 "nbformat_minor": 2
}
